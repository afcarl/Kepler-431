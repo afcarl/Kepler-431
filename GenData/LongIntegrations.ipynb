{
 "cells": [
  {
   "cell_type": "code",
   "execution_count": 24,
   "metadata": {
    "collapsed": true
   },
   "outputs": [],
   "source": [
    "import rebound\n",
    "import numpy as np\n",
    "import random"
   ]
  },
  {
   "cell_type": "code",
   "execution_count": 25,
   "metadata": {
    "collapsed": true
   },
   "outputs": [],
   "source": [
    "#draw mass from normal dist assuming Earth/Venus/Mercury density\n",
    "def get_mass(rp):\n",
    "    rs, drs_u, drs_l = 1.092, 0.191, 0.109                #radius of sun, upper/lower error bars (solar radii)\n",
    "    drp_u, drp_l = rp*drs_u/rs, rp*drs_l/rs               #err. prop. for planet radius (assume solar error dominates, earth radii)\n",
    "    gcm2msrp = 1.3e-7                                     #g/cm^3 -> M_sun/R_Earth^3\n",
    "    rho = 5.4                                             #avg density of Earth, Venus and Mercury\n",
    "    return 4./3.*np.pi*(np.random.normal(rp, np.mean([drp_u,drp_l])))**3 *rho*gcm2msrp\n",
    "\n",
    "#run sim\n",
    "def sim(sim_id):\n",
    "    sim = rebound.Simulation()\n",
    "    sim.integrator=\"whfast\"\n",
    "    sim.ri_whfast.safe_mode = 0\n",
    "    sim.G = 4*np.pi**2\n",
    "    tmax = 1e9\n",
    "    \n",
    "    #orb params\n",
    "    rp1,rp2,rp3 = 0.764, 0.668, 1.11                      #radius of planets (earth radii)\n",
    "    emax = 0.2\n",
    "    imax = 0.1\n",
    "    \n",
    "    sim.add(m=1.071)\n",
    "    sim.add(m=get_mass(rp1), a=0.0719, e=random.random()*emax, pomega=random.random()*2.*np.pi, inc=random.random()*imax, Omega=random.random()*2.*np.pi, f=random.random()*2.*np.pi)\n",
    "    sim.add(m=get_mass(rp2), a=0.0847, e=random.random()*emax, pomega=random.random()*2.*np.pi, inc=random.random()*imax, Omega=random.random()*2.*np.pi, f=random.random()*2.*np.pi)\n",
    "    sim.add(m=get_mass(rp3), a=0.1045, e=random.random()*emax, pomega=random.random()*2.*np.pi, inc=random.random()*imax, Omega=random.random()*2.*np.pi, f=random.random()*2.*np.pi)\n",
    "    sim.move_to_com()\n",
    "    \n",
    "    p = sim.particles\n",
    "    sim.exit_min_distance = p[1].a*(2*p[1].m/3)**(1./3.)  #use smaller hill radius as exit condition\n",
    "    sim.dt = 2*np.pi*p[1].a**(3./2.) / 50\n",
    "    \n",
    "    #stable = [True] # assume it's stable and update if not\n",
    "    #try:\n",
    "    #    sim.integrate(tmax)\n",
    "    #except:\n",
    "    #    stable = [False]"
   ]
  },
  {
   "cell_type": "code",
   "execution_count": null,
   "metadata": {
    "collapsed": true
   },
   "outputs": [],
   "source": []
  }
 ],
 "metadata": {
  "kernelspec": {
   "display_name": "Python 2",
   "language": "python",
   "name": "python2"
  },
  "language_info": {
   "codemirror_mode": {
    "name": "ipython",
    "version": 2
   },
   "file_extension": ".py",
   "mimetype": "text/x-python",
   "name": "python",
   "nbconvert_exporter": "python",
   "pygments_lexer": "ipython2",
   "version": "2.7.11"
  }
 },
 "nbformat": 4,
 "nbformat_minor": 1
}
