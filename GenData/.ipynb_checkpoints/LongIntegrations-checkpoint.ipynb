{
 "cells": [
  {
   "cell_type": "code",
   "execution_count": 64,
   "metadata": {
    "collapsed": true
   },
   "outputs": [],
   "source": [
    "import rebound\n",
    "import numpy as np\n",
    "import random\n",
    "import time\n",
    "from subprocess import call"
   ]
  },
  {
   "cell_type": "code",
   "execution_count": 43,
   "metadata": {
    "collapsed": true
   },
   "outputs": [],
   "source": [
    "#The outputs for the integrator\n",
    "def write_output(sim,E0,filename):\n",
    "    with open(filename, \"a\") as writefile:\n",
    "        dE = abs((sim.calculate_energy() - E0)/E0)\n",
    "        ps = sim.particles\n",
    "        features = [sim.t]\n",
    "        for p in ps[1:sim.N_real]:\n",
    "            features = features + [p.m, p.a, p.P, p.e, p.pomega, p.inc, p.Omega, p.f, p.x, p.y, p.z, p.vx, p.vy, p.vz]\n",
    "        writefile.write(','.join(map(str,(features))) +\"\\n\")"
   ]
  },
  {
   "cell_type": "code",
   "execution_count": 75,
   "metadata": {
    "collapsed": true
   },
   "outputs": [],
   "source": [
    "#draw semi-major axis from normal dist from stellar mass error\n",
    "#def get_a(P):\n",
    "#    P /= 365\n",
    "#    ms, dms_u, dms_l = 1.071, 0.059, 0.037                #radius of sun, upper/lower error bars (solar radii)\n",
    "#    a = (P**2 * ms)**(1./3.)\n",
    "#    da_u, da_l = dms_u/ms/3*a, dms_l/ms/3*a               #err. prop. for semi-major axis (assume solar error dominates)\n",
    "#    return np.random.normal(a, np.mean([da_u,da_l]),10000)\n",
    "\n",
    "#draw mass from normal dist assuming Earth/Venus/Mercury density\n",
    "def get_mass(rp):\n",
    "    rs, drs_u, drs_l = 1.092, 0.191, 0.109                #radius of sun, upper/lower error bars (solar radii)\n",
    "    drp_u, drp_l = rp*drs_u/rs, rp*drs_l/rs               #err. prop. for planet radius (assume solar error dominates, earth radii)\n",
    "    gcm2msrp = 1.3e-7                                     #g/cm^3 -> M_sun/R_Earth^3\n",
    "    rho = 5.4                                             #avg density of Earth, Venus and Mercury\n",
    "    return 4./3.*np.pi*(np.random.normal(rp, np.mean([drp_u,drp_l])))**3 *rho*gcm2msrp\n",
    "\n",
    "#run sim\n",
    "def sim(sim_id):\n",
    "    #setup simulation, add particles, etc.\n",
    "    sim = rebound.Simulation()\n",
    "    sim.integrator=\"whfast\"\n",
    "    sim.ri_whfast.safe_mode = 0\n",
    "    sim.G = 4*np.pi**2\n",
    "    \n",
    "    rp1,rp2,rp3 = 0.764, 0.668, 1.11                      #radius of planets (earth radii)\n",
    "    a1, a2, a3 = 0.0719, 0.0847, 0.1045                   #semi-major axis (AU)\n",
    "    #P1,P2,P3 = 6.803, 8.703, 11.922                       #period of planets (days)\n",
    "    emax = 0.2\n",
    "    imax = 0.1\n",
    "    \n",
    "    sim.add(m=1.071)\n",
    "    sim.add(m=get_mass(rp1), a=a1, e=random.random()*emax, pomega=random.random()*2.*np.pi, inc=random.random()*imax, Omega=random.random()*2.*np.pi, f=random.random()*2.*np.pi)\n",
    "    sim.add(m=get_mass(rp2), a=a2, e=random.random()*emax, pomega=random.random()*2.*np.pi, inc=random.random()*imax, Omega=random.random()*2.*np.pi, f=random.random()*2.*np.pi)\n",
    "    sim.add(m=get_mass(rp3), a=a3, e=random.random()*emax, pomega=random.random()*2.*np.pi, inc=random.random()*imax, Omega=random.random()*2.*np.pi, f=random.random()*2.*np.pi)\n",
    "    sim.move_to_com()\n",
    "    \n",
    "    #simulation parameters\n",
    "    ps = sim.particles\n",
    "    sim.exit_min_distance = 0.5*(ps[1].a+ps[2].a)*((ps[1].m+ps[2].m)/3)**(1./3.)  #use smaller hill radius as exit condition\n",
    "    P1 = ps[1].P\n",
    "    sim.dt = P1*0.04                                     #25 timesteps per orbital period\n",
    "    #tmax = P1*1e9\n",
    "    tmax = P1*100\n",
    "    \n",
    "    E0 = sim.calculate_energy()\n",
    "    t0 = time.time()\n",
    "    n_outputs = 10\n",
    "    \n",
    "    #writing\n",
    "    filename = \"Kepler-431_id%d\"%sim_id\n",
    "    call(\"rm %s*\"%filename,shell=True)                  #overwrite any existing files of the same name\n",
    "    write_output(sim,E0,filename+\"_long.csv\")           #main .csv file with outputted orbital parameters over time\n",
    "    \n",
    "    #save initial parameters\n",
    "    ini = []\n",
    "    for p in ps[1:sim.N_real]:\n",
    "        ini = ini + [p.m, p.a, p.P, p.e, p.pomega, p.inc, p.Omega, p.f, p.x, p.y, p.z, p.vx, p.vy, p.vz]\n",
    "    \n",
    "    #simulate\n",
    "    stable = [True] \n",
    "    try:\n",
    "        for t in np.logspace(0,np.log10(tmax),n_outputs):\n",
    "            sim.integrate(t)\n",
    "            write_output(sim,E0,filename+\"_long.csv\")  \n",
    "    except:\n",
    "        stable = [False]\n",
    "        \n",
    "    #output summary of longterm stability + initial orbital parameters\n",
    "    elapsed_time = time.time() - t0\n",
    "    fini = [stable[0], sim.t/P1, tmax/P1] + ini + [abs((sim.calculate_energy()-E0)/E0), elapsed_time]\n",
    "    with open(filename+\"_summary.csv\", \"a\") as writefile:\n",
    "        writefile.write(','.join(map(str,(fini))) +\"\\n\")\n",
    "    "
   ]
  },
  {
   "cell_type": "code",
   "execution_count": 76,
   "metadata": {
    "collapsed": false
   },
   "outputs": [],
   "source": [
    "sim(10)"
   ]
  },
  {
   "cell_type": "code",
   "execution_count": null,
   "metadata": {
    "collapsed": true
   },
   "outputs": [],
   "source": []
  }
 ],
 "metadata": {
  "kernelspec": {
   "display_name": "Python 2",
   "language": "python",
   "name": "python2"
  },
  "language_info": {
   "codemirror_mode": {
    "name": "ipython",
    "version": 2
   },
   "file_extension": ".py",
   "mimetype": "text/x-python",
   "name": "python",
   "nbconvert_exporter": "python",
   "pygments_lexer": "ipython2",
   "version": "2.7.11"
  }
 },
 "nbformat": 4,
 "nbformat_minor": 1
}
